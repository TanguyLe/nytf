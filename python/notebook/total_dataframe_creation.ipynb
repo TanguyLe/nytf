{
 "cells": [
  {
   "cell_type": "code",
   "execution_count": null,
   "metadata": {},
   "outputs": [],
   "source": [
    "import os\n",
    "import sys\n",
    "import pickle\n",
    "import datetime, time\n",
    "import random\n",
    "from importlib import reload\n",
    "from math import sqrt\n",
    "import random\n",
    "\n",
    "import pandas as pd\n",
    "import numpy as np\n",
    "import matplotlib.pyplot as plt\n",
    "\n",
    "module_paths = {os.pardir}  # package directory\n",
    "sys.path.extend(module_paths.difference(sys.path))\n",
    "\n",
    "\n",
    "from nytf import utils, utils2, main_pipeline\n",
    "\n",
    "pd.options.display.max_columns = 100"
   ]
  },
  {
   "cell_type": "code",
   "execution_count": null,
   "metadata": {},
   "outputs": [],
   "source": [
    "train = pd.read_pickle('train2.pkl')\n",
    "test = pd.read_pickle('test2.pkl')"
   ]
  },
  {
   "cell_type": "code",
   "execution_count": null,
   "metadata": {},
   "outputs": [],
   "source": [
    "%%time\n",
    "holidays_features = main_pipeline.HolidayFeaturesExtractor(date_col=\"pickup_datetime\", interest_col=\"fare_amount\", state=\"NY\")\n",
    "new_train = holidays_features.fit_transform(train)\n",
    "new_train.index = train.index\n",
    "train = pd.concat((train,new_train), axis=1)\n",
    "test = pd.concat((test, holidays_features.transform(test)), axis=1)"
   ]
  },
  {
   "cell_type": "code",
   "execution_count": null,
   "metadata": {},
   "outputs": [],
   "source": [
    "%%time\n",
    "business_features = main_pipeline.BusinessFeatures(hour_col='hour')\n",
    "train = pd.concat((train, business_features.fit_transform(train)), axis=1)\n",
    "test = pd.concat((test, business_features.transform(test)), axis=1)"
   ]
  },
  {
   "cell_type": "code",
   "execution_count": null,
   "metadata": {},
   "outputs": [],
   "source": [
    "def dist(lat1, lon1, lat2, lon2):\n",
    "    R = 6373000\n",
    "\n",
    "    lat1 = np.radians(lat1)\n",
    "    lon1 = np.radians(lon1)\n",
    "    lat2 = np.radians(lat2)\n",
    "    lon2 = np.radians(lon2)\n",
    "\n",
    "    dlon = lon2 - lon1\n",
    "    dlat = lat2 - lat1\n",
    "\n",
    "    a = np.sin(dlat / 2) ** 2 + np.cos(lat1) * np.cos(lat2) * np.sin(dlon / 2) ** 2\n",
    "    c = 2 * np.arctan2(np.sqrt(a), np.sqrt(1 - a))\n",
    "\n",
    "    return R * c"
   ]
  },
  {
   "cell_type": "code",
   "execution_count": null,
   "metadata": {},
   "outputs": [],
   "source": [
    "%%time\n",
    "train['latitude_diff'] = train['dropoff_latitude'].values - train['pickup_latitude'].values\n",
    "train['longitude_diff'] = train['dropoff_longitude'].values - train['pickup_longitude'].values\n",
    "test['latitude_diff'] = test['dropoff_latitude'].values - test['pickup_latitude'].values\n",
    "test['longitude_diff'] = test['dropoff_longitude'].values - test['pickup_longitude'].values\n",
    "train['distance2'] = dist(train['pickup_latitude'].values, train['pickup_longitude'].values, train['dropoff_latitude'].values, train['dropoff_longitude'].values)\n",
    "test['distance2'] = dist(test['pickup_latitude'].values, test['pickup_longitude'].values, test['dropoff_latitude'].values, test['dropoff_longitude'].values)\n",
    "train['distance2_jfk'] = dist(train['pickup_latitude'].values, train['pickup_longitude'].values, 40.6441666667, -73.7822222222).clip(1000, 10000) - 1000\n",
    "test['distance2_jfk'] = dist(test['pickup_latitude'].values, test['pickup_longitude'].values, 40.6441666667, -73.7822222222).clip(1000, 10000) - 1000\n",
    "train['distance2_guardia'] = dist(train['pickup_latitude'].values, train['pickup_longitude'].values, 40.7769271, -73.87396590000003).clip(1400, 2500) - 1400\n",
    "test['distance2_guardia'] = dist(test['pickup_latitude'].values, test['pickup_longitude'].values, 40.7769271, -73.87396590000003).clip(1400, 2500) - 1400\n",
    "train['distance2_jfk_dropoff'] = dist(train['dropoff_latitude'].values, train['dropoff_longitude'].values, 40.6441666667, -73.7822222222).clip(1000, 10000) - 1000\n",
    "test['distance2_jfk_dropoff'] = dist(test['dropoff_latitude'].values, test['dropoff_longitude'].values, 40.6441666667, -73.7822222222).clip(1000, 10000) - 1000\n",
    "train['distance2_guardia_dropoff'] = dist(train['dropoff_latitude'].values, train['dropoff_longitude'].values, 40.7769271, -73.87396590000003).clip(1400, 2500) - 1400\n",
    "test['distance2_guardia_dropoff'] = dist(test['dropoff_latitude'].values, test['dropoff_longitude'].values, 40.7769271, -73.87396590000003).clip(1400, 2500) - 1400"
   ]
  },
  {
   "cell_type": "code",
   "execution_count": null,
   "metadata": {},
   "outputs": [],
   "source": [
    "train.memory_usage(deep=True).sum() / 10**9"
   ]
  },
  {
   "cell_type": "code",
   "execution_count": null,
   "metadata": {},
   "outputs": [],
   "source": [
    "train.to_pickle('../../data/processing/train_total_features.pkl')"
   ]
  },
  {
   "cell_type": "code",
   "execution_count": null,
   "metadata": {},
   "outputs": [],
   "source": [
    "test.to_pickle('../../data/processing/test_total_features.pkl')"
   ]
  }
 ],
 "metadata": {
  "kernelspec": {
   "display_name": "Python 3",
   "language": "python",
   "name": "python3"
  },
  "language_info": {
   "codemirror_mode": {
    "name": "ipython",
    "version": 3
   },
   "file_extension": ".py",
   "mimetype": "text/x-python",
   "name": "python",
   "nbconvert_exporter": "python",
   "pygments_lexer": "ipython3",
   "version": "3.5.2"
  }
 },
 "nbformat": 4,
 "nbformat_minor": 2
}
