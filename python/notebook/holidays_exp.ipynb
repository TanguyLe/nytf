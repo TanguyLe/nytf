{
 "cells": [
  {
   "cell_type": "code",
   "execution_count": 2,
   "metadata": {},
   "outputs": [],
   "source": [
    "import pandas as pd\n",
    "import holidays\n",
    "import pickle"
   ]
  },
  {
   "cell_type": "code",
   "execution_count": 3,
   "metadata": {},
   "outputs": [],
   "source": [
    "expected_test_types = {\n",
    "    \"pickup_longitude\": float,\n",
    "    \"pickup_latitude\": float,\n",
    "    \"dropoff_longitude\": float,\n",
    "    \"dropoff_latitude\": float,\n",
    "    \"passenger_count\": int,\n",
    "    \"pickup_datetime\": str\n",
    "}\n",
    "\n",
    "expected_train_types = {**expected_test_types, **{\"fare_amount\": float}}\n",
    "\n",
    "date_format = \"%Y-%m-%d %H:%M:%S UTC\""
   ]
  },
  {
   "cell_type": "code",
   "execution_count": 4,
   "metadata": {},
   "outputs": [],
   "source": [
    "nrows_train = 55000000\n",
    "\n",
    "try:\n",
    "    with open(\"../../data/processed/train_data_55m.pkl\", 'rb') as f:\n",
    "        train_data = pickle.load(f)\n",
    "except FileNotFoundError:\n",
    "    train_data = pd.read_csv(\"../../data/raw/train.csv\", \n",
    "                             nrows=nrows_train,\n",
    "                             usecols=range(1, len(expected_train_types)),\n",
    "                             dtype=expected_train_types)\n",
    "    \n",
    "    train_data[\"pickup_datetime\"] = pd.to_datetime(train_data[\"pickup_datetime\"], format=date_format)\n",
    "    # Let's save a pickle with the dates parsed, it is the slow action there\n",
    "    with open(\"../../data/processed/train_data_55m.pkl\", 'wb') as f:\n",
    "        pickle.dump(train_data, f)"
   ]
  },
  {
   "cell_type": "code",
   "execution_count": 5,
   "metadata": {},
   "outputs": [],
   "source": [
    "import sys\n",
    "\n",
    "sys.path.append(\"../../python/\")"
   ]
  },
  {
   "cell_type": "code",
   "execution_count": 6,
   "metadata": {},
   "outputs": [],
   "source": [
    "from nytf.holidays_extractor import HolidayExtractor"
   ]
  },
  {
   "cell_type": "code",
   "execution_count": 7,
   "metadata": {},
   "outputs": [],
   "source": [
    "h_ex = HolidayExtractor(date_col=\"pickup_datetime\", state=\"NY\")"
   ]
  },
  {
   "cell_type": "code",
   "execution_count": 16,
   "metadata": {},
   "outputs": [],
   "source": [
    "subset = train_data.iloc[:6000000]\n",
    "subset = h_ex.fit_transform(X=subset)"
   ]
  },
  {
   "cell_type": "code",
   "execution_count": 17,
   "metadata": {},
   "outputs": [
    {
     "data": {
      "text/plain": [
       "normal                                         1.000000\n",
       "Lincoln's Birthday                             1.076923\n",
       "Susan B. Anthony Day                           1.061617\n",
       "Veterans Day                                   0.979199\n",
       "Martin Luther King, Jr. Day                    0.808870\n",
       "Columbus Day                                   0.874019\n",
       "Washington's Birthday                          0.859498\n",
       "New Year's Day                                 0.715463\n",
       "Memorial Day                                   0.684066\n",
       "Labor Day                                      0.702512\n",
       "Independence Day                               0.689560\n",
       "Thanksgiving                                   0.689168\n",
       "Christmas Day                                  0.491758\n",
       "Election Day                                   0.927786\n",
       "Lincoln's Birthday (Observed)                  1.103218\n",
       "New Year's Day (Observed)                      0.815542\n",
       "Independence Day (Observed)                    0.738619\n",
       "Christmas Day (Observed)                       0.715856\n",
       "Veterans Day (Observed)                        0.927786\n",
       "Washington's Birthday, Susan B. Anthony Day    0.879906\n",
       "Name: pickup_datetime, dtype: float64"
      ]
     },
     "execution_count": 17,
     "metadata": {},
     "output_type": "execute_result"
    }
   ],
   "source": [
    "h_ex._relative_holiday_importance"
   ]
  },
  {
   "cell_type": "code",
   "execution_count": 18,
   "metadata": {},
   "outputs": [
    {
     "data": {
      "text/plain": [
       "count    6.000000e+06\n",
       "mean     9.952773e-01\n",
       "std      3.886105e-02\n",
       "min      4.917582e-01\n",
       "25%      1.000000e+00\n",
       "50%      1.000000e+00\n",
       "75%      1.000000e+00\n",
       "max      1.103218e+00\n",
       "Name: holidays_score, dtype: float64"
      ]
     },
     "execution_count": 18,
     "metadata": {},
     "output_type": "execute_result"
    }
   ],
   "source": [
    "subset[\"holidays_score\"].describe()"
   ]
  },
  {
   "cell_type": "code",
   "execution_count": 19,
   "metadata": {},
   "outputs": [
    {
     "data": {
      "text/html": [
       "<div>\n",
       "<style scoped>\n",
       "    .dataframe tbody tr th:only-of-type {\n",
       "        vertical-align: middle;\n",
       "    }\n",
       "\n",
       "    .dataframe tbody tr th {\n",
       "        vertical-align: top;\n",
       "    }\n",
       "\n",
       "    .dataframe thead th {\n",
       "        text-align: right;\n",
       "    }\n",
       "</style>\n",
       "<table border=\"1\" class=\"dataframe\">\n",
       "  <thead>\n",
       "    <tr style=\"text-align: right;\">\n",
       "      <th></th>\n",
       "      <th>fare_amount</th>\n",
       "      <th>pickup_datetime</th>\n",
       "      <th>pickup_longitude</th>\n",
       "      <th>pickup_latitude</th>\n",
       "      <th>dropoff_longitude</th>\n",
       "      <th>dropoff_latitude</th>\n",
       "      <th>holidays_score</th>\n",
       "    </tr>\n",
       "  </thead>\n",
       "  <tbody>\n",
       "    <tr>\n",
       "      <th>0</th>\n",
       "      <td>4.5</td>\n",
       "      <td>2009-06-15 17:26:21</td>\n",
       "      <td>-73.844311</td>\n",
       "      <td>40.721319</td>\n",
       "      <td>-73.841610</td>\n",
       "      <td>40.712278</td>\n",
       "      <td>1.0</td>\n",
       "    </tr>\n",
       "    <tr>\n",
       "      <th>1</th>\n",
       "      <td>16.9</td>\n",
       "      <td>2010-01-05 16:52:16</td>\n",
       "      <td>-74.016048</td>\n",
       "      <td>40.711303</td>\n",
       "      <td>-73.979268</td>\n",
       "      <td>40.782004</td>\n",
       "      <td>1.0</td>\n",
       "    </tr>\n",
       "    <tr>\n",
       "      <th>2</th>\n",
       "      <td>5.7</td>\n",
       "      <td>2011-08-18 00:35:00</td>\n",
       "      <td>-73.982738</td>\n",
       "      <td>40.761270</td>\n",
       "      <td>-73.991242</td>\n",
       "      <td>40.750562</td>\n",
       "      <td>1.0</td>\n",
       "    </tr>\n",
       "    <tr>\n",
       "      <th>3</th>\n",
       "      <td>7.7</td>\n",
       "      <td>2012-04-21 04:30:42</td>\n",
       "      <td>-73.987130</td>\n",
       "      <td>40.733143</td>\n",
       "      <td>-73.991567</td>\n",
       "      <td>40.758092</td>\n",
       "      <td>1.0</td>\n",
       "    </tr>\n",
       "    <tr>\n",
       "      <th>4</th>\n",
       "      <td>5.3</td>\n",
       "      <td>2010-03-09 07:51:00</td>\n",
       "      <td>-73.968095</td>\n",
       "      <td>40.768008</td>\n",
       "      <td>-73.956655</td>\n",
       "      <td>40.783762</td>\n",
       "      <td>1.0</td>\n",
       "    </tr>\n",
       "  </tbody>\n",
       "</table>\n",
       "</div>"
      ],
      "text/plain": [
       "   fare_amount     pickup_datetime  pickup_longitude  pickup_latitude  \\\n",
       "0          4.5 2009-06-15 17:26:21        -73.844311        40.721319   \n",
       "1         16.9 2010-01-05 16:52:16        -74.016048        40.711303   \n",
       "2          5.7 2011-08-18 00:35:00        -73.982738        40.761270   \n",
       "3          7.7 2012-04-21 04:30:42        -73.987130        40.733143   \n",
       "4          5.3 2010-03-09 07:51:00        -73.968095        40.768008   \n",
       "\n",
       "   dropoff_longitude  dropoff_latitude  holidays_score  \n",
       "0         -73.841610         40.712278             1.0  \n",
       "1         -73.979268         40.782004             1.0  \n",
       "2         -73.991242         40.750562             1.0  \n",
       "3         -73.991567         40.758092             1.0  \n",
       "4         -73.956655         40.783762             1.0  "
      ]
     },
     "execution_count": 19,
     "metadata": {},
     "output_type": "execute_result"
    }
   ],
   "source": [
    "subset.head()"
   ]
  },
  {
   "cell_type": "code",
   "execution_count": null,
   "metadata": {},
   "outputs": [],
   "source": []
  }
 ],
 "metadata": {
  "kernelspec": {
   "display_name": "Python 3",
   "language": "python",
   "name": "python3"
  },
  "language_info": {
   "codemirror_mode": {
    "name": "ipython",
    "version": 3
   },
   "file_extension": ".py",
   "mimetype": "text/x-python",
   "name": "python",
   "nbconvert_exporter": "python",
   "pygments_lexer": "ipython3",
   "version": "3.6.2"
  }
 },
 "nbformat": 4,
 "nbformat_minor": 2
}
